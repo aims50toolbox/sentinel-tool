{
 "cells": [
  {
   "cell_type": "markdown",
   "metadata": {},
   "source": [
    "# Preamble\n",
    "You can put any code here, it won't be included in the deployment. Also take care, that the deployments cannot interpret magical lines starting with `!`."
   ]
  },
  {
   "cell_type": "code",
   "execution_count": null,
   "metadata": {},
   "outputs": [],
   "source": [
    "#!skip\n",
    "!pip3 install opencv-python matplotlib ultralytics\n",
    "!pip3 install git+https://github.com/hollosigergely/aitoolbox_support_library.git"
   ]
  },
  {
   "cell_type": "markdown",
   "metadata": {},
   "source": [
    "# Setup"
   ]
  },
  {
   "cell_type": "markdown",
   "metadata": {},
   "source": [
    "Load OpenCV for image processing and ultralytics for YOLO."
   ]
  },
  {
   "cell_type": "code",
   "execution_count": null,
   "metadata": {},
   "outputs": [],
   "source": [
    "from ultralytics import YOLO\n",
    "import cv2\n",
    "from aitoolbox_support_lib.context import Context\n",
    "from aitoolbox_support_lib.datatypes.image import Image"
   ]
  },
  {
   "cell_type": "code",
   "execution_count": null,
   "metadata": {},
   "outputs": [],
   "source": [
    "#!skip\n",
    "import matplotlib.pyplot as plt"
   ]
  },
  {
   "cell_type": "code",
   "execution_count": null,
   "metadata": {},
   "outputs": [],
   "source": [
    "#!skip\n",
    "\n",
    "# Define test input with example\n",
    "# Make sure its colorspace is converted, CV uses BGR, we need RGB\n",
    "cv_img = cv2.cvtColor(cv2.imread('assets/example.jpg'),cv2.COLOR_BGR2RGB)\n",
    "Context.get().get_sources().set(\"image\",Image(cv_img))"
   ]
  },
  {
   "cell_type": "markdown",
   "metadata": {},
   "source": [
    "Open YOLO model. Use the checkpoint files from the [pretrained models](https://docs.ultralytics.com/models/yolov8/#supported-tasks-and-modes), or the model trained on custom dataset by [train.ipynb](train.ipynb)."
   ]
  },
  {
   "cell_type": "code",
   "execution_count": null,
   "metadata": {},
   "outputs": [],
   "source": [
    "model = YOLO('yolov8n.pt')"
   ]
  },
  {
   "cell_type": "markdown",
   "metadata": {},
   "source": [
    "# Service"
   ]
  },
  {
   "cell_type": "markdown",
   "metadata": {},
   "source": [
    "Service inputs:\n",
    "\n",
    "* image (*Image*): the image to detect on \n",
    "* test_mode (*bool*): if True, the service returns an image with the detected boxes"
   ]
  },
  {
   "cell_type": "code",
   "execution_count": null,
   "metadata": {},
   "outputs": [],
   "source": [
    "image = Context.get().get_sources().get(\"image\",Image)\n",
    "test_mode = Context.get().get_sources().get(\"test_mode\",bool,default_val = False)\n",
    "image = image.to_numpy()"
   ]
  },
  {
   "cell_type": "code",
   "execution_count": null,
   "metadata": {},
   "outputs": [],
   "source": [
    "result = model(image)"
   ]
  },
  {
   "cell_type": "code",
   "execution_count": null,
   "metadata": {},
   "outputs": [],
   "source": [
    "#!skip\n",
    "\n",
    "plt.imshow(result[0].plot())"
   ]
  },
  {
   "cell_type": "markdown",
   "metadata": {},
   "source": [
    "In `test mode` we return the single image with the detections visualized. Otherwise, we respond with the detections as bounding boxes."
   ]
  },
  {
   "cell_type": "code",
   "execution_count": null,
   "metadata": {},
   "outputs": [],
   "source": [
    "result[0].boxes.xyxy.cpu().numpy()"
   ]
  },
  {
   "cell_type": "code",
   "execution_count": null,
   "metadata": {},
   "outputs": [],
   "source": [
    "destination = Context.get().get_destinations()\n",
    "if test_mode: \n",
    "    destination.enable_single_mimetype(True)\n",
    "    destination.set(\"resp\",Image(result[0].plot()))\n",
    "else:\n",
    "    destination.set(\"boxes\", result[0].boxes.xyxy.cpu().numpy())\n",
    "    destination.set(\"cls\", result[0].boxes.cls.cpu().numpy())"
   ]
  },
  {
   "cell_type": "markdown",
   "metadata": {},
   "source": [
    "Test response format:"
   ]
  },
  {
   "cell_type": "code",
   "execution_count": null,
   "metadata": {},
   "outputs": [],
   "source": [
    "#!skip\n",
    "\n",
    "import json\n",
    "json.loads(destination.serialize())"
   ]
  },
  {
   "cell_type": "code",
   "execution_count": null,
   "metadata": {},
   "outputs": [],
   "source": []
  }
 ],
 "metadata": {
  "kernelspec": {
   "display_name": "Python 3 (ipykernel)",
   "language": "python",
   "name": "python3"
  },
  "language_info": {
   "codemirror_mode": {
    "name": "ipython",
    "version": 3
   },
   "file_extension": ".py",
   "mimetype": "text/x-python",
   "name": "python",
   "nbconvert_exporter": "python",
   "pygments_lexer": "ipython3",
   "version": "3.12.0"
  }
 },
 "nbformat": 4,
 "nbformat_minor": 2
}
